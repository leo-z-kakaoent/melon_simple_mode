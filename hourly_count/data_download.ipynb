{
 "cells": [
  {
   "cell_type": "code",
   "execution_count": 1,
   "metadata": {},
   "outputs": [],
   "source": [
    "import os"
   ]
  },
  {
   "cell_type": "code",
   "execution_count": 3,
   "metadata": {},
   "outputs": [
    {
     "data": {
      "text/plain": [
       "['.gitignore', 'da0905', '.venv', 'hourly_count', '.git', 'data']"
      ]
     },
     "execution_count": 3,
     "metadata": {},
     "output_type": "execute_result"
    }
   ],
   "source": [
    "os.listdir(\"../\")"
   ]
  },
  {
   "cell_type": "code",
   "execution_count": 5,
   "metadata": {},
   "outputs": [
    {
     "name": "stdout",
     "output_type": "stream",
     "text": [
      "Downloaded hourly_count/hourly_count-000000000000.csv to ../data/hourly_count/hourly_count-000000000000.csv\n"
     ]
    }
   ],
   "source": [
    "from google.cloud import storage\n",
    "import os\n",
    "\n",
    "def download_files_from_gcs(bucket_name, folder_name, destination_folder):\n",
    "    # Create the destination folder if it doesn't exist\n",
    "    if not os.path.exists(destination_folder):\n",
    "        os.makedirs(destination_folder)\n",
    "        print(f'Created directory {destination_folder}')\n",
    "\n",
    "    # Initialize a client\n",
    "    storage_client = storage.Client()\n",
    "\n",
    "    # Get the bucket\n",
    "    bucket = storage_client.bucket(bucket_name)\n",
    "\n",
    "    # List blobs in the specified folder\n",
    "    blobs = bucket.list_blobs(prefix=folder_name)\n",
    "\n",
    "    # Download each file\n",
    "    for blob in blobs:\n",
    "        # Skip any \"directory\" blobs\n",
    "        if not blob.name.endswith('/'):\n",
    "            # Set the destination path\n",
    "            destination_path = os.path.join(destination_folder, os.path.basename(blob.name))\n",
    "            \n",
    "            # Download the file\n",
    "            blob.download_to_filename(destination_path)\n",
    "            print(f'Downloaded {blob.name} to {destination_path}')\n",
    "\n",
    "# Specify the bucket, folder, and local destination folder\n",
    "bucket_name = 'leo_melon_simple'\n",
    "folder_name = 'hourly_count/'\n",
    "destination_folder = '../data/hourly_count'  # Destination folder path\n",
    "\n",
    "# Call the function to download files\n",
    "download_files_from_gcs(bucket_name, folder_name, destination_folder)\n"
   ]
  },
  {
   "cell_type": "code",
   "execution_count": null,
   "metadata": {},
   "outputs": [],
   "source": []
  }
 ],
 "metadata": {
  "kernelspec": {
   "display_name": ".venv",
   "language": "python",
   "name": "python3"
  },
  "language_info": {
   "codemirror_mode": {
    "name": "ipython",
    "version": 3
   },
   "file_extension": ".py",
   "mimetype": "text/x-python",
   "name": "python",
   "nbconvert_exporter": "python",
   "pygments_lexer": "ipython3",
   "version": "3.10.13"
  }
 },
 "nbformat": 4,
 "nbformat_minor": 2
}
