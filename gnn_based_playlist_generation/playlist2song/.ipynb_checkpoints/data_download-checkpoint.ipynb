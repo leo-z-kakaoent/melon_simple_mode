{
 "cells": [
  {
   "cell_type": "code",
   "execution_count": 1,
   "id": "8e90717b-1f56-465d-bf41-2266ba3c1167",
   "metadata": {
    "tags": []
   },
   "outputs": [],
   "source": [
    "import pandas as pd\n",
    "from tqdm import tqdm"
   ]
  },
  {
   "cell_type": "code",
   "execution_count": 3,
   "id": "3595c2f7-1c61-42d0-a18d-59d9468b74ac",
   "metadata": {
    "tags": []
   },
   "outputs": [
    {
     "name": "stderr",
     "output_type": "stream",
     "text": [
      "100%|██████████| 14/14 [00:31<00:00,  2.23s/it]\n"
     ]
    }
   ],
   "source": [
    "fd = \"gs://leo_melon_simple/gnn_playlist/20250213\"\n",
    "for nodelinks in tqdm([\n",
    "    \"gnn_playlists2songs\",\n",
    "    \"gnn_songs2classes\",\n",
    "    \"gnn_songs2styles\",\n",
    "    \"gnn_songs2genres\",\n",
    "    \"gnn_songs2artists\",\n",
    "    \"gnn_songs2issue_years\",\n",
    "    \"gnn_playlists2tags\",\n",
    "    \"gnn_playlists2djs\",\n",
    "    \"gnn_artists2classes\",\n",
    "    \"gnn_artists2styles\",\n",
    "    \"gnn_artists2genres\",\n",
    "    \"gnn_artists2years_active\",\n",
    "    \"gnn_artists2nationality\",\n",
    "    \"gnn_artists2gender\",\n",
    "]):\n",
    "    dfs = []\n",
    "    i = 0\n",
    "    while True:\n",
    "        try:\n",
    "            stri = str(i).zfill(12)\n",
    "            path = f\"{fd}/{nodelinks}/{stri}.parquet\"\n",
    "            dfs.append(pd.read_parquet(path))\n",
    "            i += 1\n",
    "        except:\n",
    "            break\n",
    "    pd.concat(dfs).to_parquet(f\"data/{nodelinks}.parquet\")\n"
   ]
  },
  {
   "cell_type": "code",
   "execution_count": 3,
   "id": "07212e0e-b0da-476c-8a0d-d7f1cf39b19e",
   "metadata": {
    "tags": []
   },
   "outputs": [],
   "source": [
    "df = pd.concat(dfs)"
   ]
  },
  {
   "cell_type": "code",
   "execution_count": 4,
   "id": "1c318b3e-db72-43bc-9662-5b5f98fea190",
   "metadata": {
    "tags": []
   },
   "outputs": [],
   "source": [
    "df.to_parquet(\"gnn_playlist_gen_input.parquet\")"
   ]
  },
  {
   "cell_type": "code",
   "execution_count": null,
   "id": "e3365c01-504f-4759-b0b9-62f9bb8cbb04",
   "metadata": {},
   "outputs": [],
   "source": []
  }
 ],
 "metadata": {
  "environment": {
   "kernel": "conda-base-py",
   "name": "workbench-notebooks.m128",
   "type": "gcloud",
   "uri": "us-docker.pkg.dev/deeplearning-platform-release/gcr.io/workbench-notebooks:m128"
  },
  "kernelspec": {
   "display_name": "Python 3 (ipykernel) (Local)",
   "language": "python",
   "name": "conda-base-py"
  },
  "language_info": {
   "codemirror_mode": {
    "name": "ipython",
    "version": 3
   },
   "file_extension": ".py",
   "mimetype": "text/x-python",
   "name": "python",
   "nbconvert_exporter": "python",
   "pygments_lexer": "ipython3",
   "version": "3.10.16"
  }
 },
 "nbformat": 4,
 "nbformat_minor": 5
}
